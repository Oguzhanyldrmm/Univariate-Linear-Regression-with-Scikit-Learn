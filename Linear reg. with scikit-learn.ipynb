{
 "cells": [
  {
   "cell_type": "code",
   "execution_count": 82,
   "id": "a81222e2",
   "metadata": {},
   "outputs": [],
   "source": [
    "from sklearn.linear_model import LinearRegression\n",
    "import pandas as pd\n",
    "import matplotlib.pyplot as plt\n",
    "import numpy as np"
   ]
  },
  {
   "cell_type": "markdown",
   "id": "df5efb53",
   "metadata": {},
   "source": [
    "**Data Preparing**"
   ]
  },
  {
   "cell_type": "code",
   "execution_count": 83,
   "id": "0e89f400",
   "metadata": {},
   "outputs": [],
   "source": [
    "data = pd.read_csv('yillara gore il nufuslari2000-2008.csv')"
   ]
  },
  {
   "cell_type": "code",
   "execution_count": 84,
   "id": "a910670b",
   "metadata": {},
   "outputs": [],
   "source": [
    "data = data.iloc[10,:]\n",
    "data = pd.DataFrame(data)"
   ]
  },
  {
   "cell_type": "code",
   "execution_count": 85,
   "id": "16bad8a7",
   "metadata": {},
   "outputs": [],
   "source": [
    "data = data.rename(columns={10: 'Antalya'})\n",
    "data = data.drop('Yıllara göre il nüfusları, 2000-2021')"
   ]
  },
  {
   "cell_type": "code",
   "execution_count": 86,
   "id": "126e7103",
   "metadata": {},
   "outputs": [
    {
     "name": "stdout",
     "output_type": "stream",
     "text": [
      "Antalya    int32\n",
      "Yıllar     int64\n",
      "dtype: object\n"
     ]
    }
   ],
   "source": [
    "data = data.reset_index(drop=True)\n",
    "data['Yıllar'] = pd.Series(range(2000, 2000+len(data)), index=data.index)\n",
    "data['Antalya'] = data['Antalya'].apply(lambda x : x.replace(' ',''))\n",
    "convert_dict = {'Antalya': int}\n",
    " \n",
    "data = data.astype(convert_dict)\n",
    "\n",
    "print(data.dtypes)\n",
    "data['Antalya'] = data['Antalya'].apply(lambda x : x/1000000)\n",
    "data['Yıllar'] = data['Yıllar'].apply(lambda x : x-2000)\n"
   ]
  },
  {
   "cell_type": "code",
   "execution_count": 87,
   "id": "66d86e34",
   "metadata": {},
   "outputs": [
    {
     "data": {
      "text/html": [
       "<div>\n",
       "<style scoped>\n",
       "    .dataframe tbody tr th:only-of-type {\n",
       "        vertical-align: middle;\n",
       "    }\n",
       "\n",
       "    .dataframe tbody tr th {\n",
       "        vertical-align: top;\n",
       "    }\n",
       "\n",
       "    .dataframe thead th {\n",
       "        text-align: right;\n",
       "    }\n",
       "</style>\n",
       "<table border=\"1\" class=\"dataframe\">\n",
       "  <thead>\n",
       "    <tr style=\"text-align: right;\">\n",
       "      <th></th>\n",
       "      <th>Antalya</th>\n",
       "      <th>Yıllar</th>\n",
       "    </tr>\n",
       "  </thead>\n",
       "  <tbody>\n",
       "    <tr>\n",
       "      <th>0</th>\n",
       "      <td>1.430539</td>\n",
       "      <td>0</td>\n",
       "    </tr>\n",
       "    <tr>\n",
       "      <th>1</th>\n",
       "      <td>1.480282</td>\n",
       "      <td>1</td>\n",
       "    </tr>\n",
       "    <tr>\n",
       "      <th>2</th>\n",
       "      <td>1.529110</td>\n",
       "      <td>2</td>\n",
       "    </tr>\n",
       "    <tr>\n",
       "      <th>3</th>\n",
       "      <td>1.578367</td>\n",
       "      <td>3</td>\n",
       "    </tr>\n",
       "    <tr>\n",
       "      <th>4</th>\n",
       "      <td>1.629338</td>\n",
       "      <td>4</td>\n",
       "    </tr>\n",
       "  </tbody>\n",
       "</table>\n",
       "</div>"
      ],
      "text/plain": [
       "    Antalya  Yıllar\n",
       "0  1.430539       0\n",
       "1  1.480282       1\n",
       "2  1.529110       2\n",
       "3  1.578367       3\n",
       "4  1.629338       4"
      ]
     },
     "execution_count": 87,
     "metadata": {},
     "output_type": "execute_result"
    }
   ],
   "source": [
    "data.head()"
   ]
  },
  {
   "cell_type": "code",
   "execution_count": 88,
   "id": "39514f4d",
   "metadata": {},
   "outputs": [],
   "source": [
    "x_train = data.iloc[:,1]\n",
    "y_train = data.iloc[:,0]"
   ]
  },
  {
   "cell_type": "code",
   "execution_count": 89,
   "id": "48886979",
   "metadata": {},
   "outputs": [
    {
     "data": {
      "text/plain": [
       "pandas.core.series.Series"
      ]
     },
     "execution_count": 89,
     "metadata": {},
     "output_type": "execute_result"
    }
   ],
   "source": [
    "type(x_train)"
   ]
  },
  {
   "cell_type": "code",
   "execution_count": 90,
   "id": "88557cc0",
   "metadata": {},
   "outputs": [],
   "source": [
    "# Convert to 2D array them because scikit learn loves it!\n",
    "x_train = x_train.values.reshape(-1,1)\n",
    "y_train = y_train.values.reshape(-1,1)"
   ]
  },
  {
   "cell_type": "code",
   "execution_count": 91,
   "id": "7cf4f81a",
   "metadata": {},
   "outputs": [
    {
     "data": {
      "text/plain": [
       "numpy.ndarray"
      ]
     },
     "execution_count": 91,
     "metadata": {},
     "output_type": "execute_result"
    }
   ],
   "source": [
    "type(x_train)"
   ]
  },
  {
   "cell_type": "markdown",
   "id": "8b18aa98",
   "metadata": {},
   "source": [
    "**Scikit-Learn Functions**"
   ]
  },
  {
   "cell_type": "code",
   "execution_count": 92,
   "id": "5c2b0738",
   "metadata": {},
   "outputs": [],
   "source": [
    "linear_reg = LinearRegression()"
   ]
  },
  {
   "cell_type": "code",
   "execution_count": 93,
   "id": "285f3e24",
   "metadata": {},
   "outputs": [
    {
     "data": {
      "text/plain": [
       "LinearRegression()"
      ]
     },
     "execution_count": 93,
     "metadata": {},
     "output_type": "execute_result"
    }
   ],
   "source": [
    "linear_reg.fit(x_train,y_train)"
   ]
  },
  {
   "cell_type": "code",
   "execution_count": 96,
   "id": "820374ec",
   "metadata": {},
   "outputs": [],
   "source": [
    "# Prediction\n",
    "w = linear_reg.coef_\n",
    "b = linear_reg.intercept_"
   ]
  },
  {
   "cell_type": "code",
   "execution_count": 97,
   "id": "03694548",
   "metadata": {},
   "outputs": [
    {
     "data": {
      "text/plain": [
       "(array([[0.057286]]), array([1.40829758]))"
      ]
     },
     "execution_count": 97,
     "metadata": {},
     "output_type": "execute_result"
    }
   ],
   "source": [
    "w,b"
   ]
  },
  {
   "cell_type": "code",
   "execution_count": 98,
   "id": "12f7f73b",
   "metadata": {},
   "outputs": [],
   "source": [
    "m = x_train.shape[0]\n",
    "predicted = np.zeros(m)\n",
    "\n",
    "for i in range(m):\n",
    "    predicted[i] = w * x_train[i] + b"
   ]
  },
  {
   "cell_type": "code",
   "execution_count": 99,
   "id": "e88ef769",
   "metadata": {},
   "outputs": [
    {
     "data": {
      "image/png": "[encoded data removed]",
      "text/plain": [
       "<Figure size 640x480 with 1 Axes>"
      ]
     },
     "metadata": {},
     "output_type": "display_data"
    },
    {
     "data": {
      "text/plain": [
       "<Figure size 2100x1500 with 0 Axes>"
      ]
     },
     "metadata": {},
     "output_type": "display_data"
    }
   ],
   "source": [
    "# Plot the linear fit\n",
    "plt.plot(x_train, predicted, c = 'b')\n",
    "\n",
    "# Show data set at table\n",
    "plt.scatter(x_train, y_train, marker ='x', c='r')\n",
    "\n",
    "#Set the title\n",
    "plt.title('Population Changes Over The Years In Antalya City')\n",
    "\n",
    "#Set the y-axis\n",
    "plt.ylabel('Population (Million)')\n",
    "\n",
    "#Set the x-axis\n",
    "plt.xlabel(\"Years (2000's)\")\n",
    "\n",
    "\n",
    "plt.figure(figsize=(7,5), dpi=300)\n",
    "plt.show()"
   ]
  },
  {
   "cell_type": "code",
   "execution_count": 106,
   "id": "95f3e083",
   "metadata": {},
   "outputs": [],
   "source": [
    "# A function which shows prediction of years according to algorithm\n",
    "def enter_year():\n",
    "    year = int(input('Please enter a year that you wonder: ' ))\n",
    "    predicted_year = float(w) * (year-2000) + float(b)\n",
    "    print(f\"Population of Antalya in {year} is {predicted_year:.2f} million\")"
   ]
  },
  {
   "cell_type": "code",
   "execution_count": 107,
   "id": "9d82c9c9",
   "metadata": {},
   "outputs": [
    {
     "name": "stdout",
     "output_type": "stream",
     "text": [
      "Please enter a year that you wonder: 2017\n",
      "Population of Antalya in 2017 is 2.38 million\n"
     ]
    }
   ],
   "source": [
    "enter_year()"
   ]
  },
  {
   "cell_type": "code",
   "execution_count": null,
   "id": "62e2cc64",
   "metadata": {},
   "outputs": [],
   "source": []
  }
 ],
 "metadata": {
  "kernelspec": {
   "display_name": "Python 3 (ipykernel)",
   "language": "python",
   "name": "python3"
  },
  "language_info": {
   "codemirror_mode": {
    "name": "ipython",
    "version": 3
   },
   "file_extension": ".py",
   "mimetype": "text/x-python",
   "name": "python",
   "nbconvert_exporter": "python",
   "pygments_lexer": "ipython3",
   "version": "3.9.13"
  }
 },
 "nbformat": 4,
 "nbformat_minor": 5
}
